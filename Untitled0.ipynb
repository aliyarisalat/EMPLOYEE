{
  "nbformat": 4,
  "nbformat_minor": 0,
  "metadata": {
    "colab": {
      "name": "Untitled0.ipynb",
      "provenance": [],
      "collapsed_sections": [],
      "authorship_tag": "ABX9TyOegnhya/YVVq4GaBcxiZjT",
      "include_colab_link": true
    },
    "kernelspec": {
      "name": "python3",
      "display_name": "Python 3"
    },
    "language_info": {
      "name": "python"
    }
  },
  "cells": [
    {
      "cell_type": "markdown",
      "metadata": {
        "id": "view-in-github",
        "colab_type": "text"
      },
      "source": [
        "<a href=\"https://colab.research.google.com/github/aliyarisalat/EMPLOYEE/blob/main/Untitled0.ipynb\" target=\"_parent\"><img src=\"https://colab.research.google.com/assets/colab-badge.svg\" alt=\"Open In Colab\"/></a>"
      ]
    },
    {
      "cell_type": "code",
      "metadata": {
        "id": "l7RxbzJSPkjy",
        "colab": {
          "base_uri": "https://localhost:8080/"
        },
        "outputId": "e04ad7c3-df5b-4053-e57c-4450a5c48c78"
      },
      "source": [
        "class Employee():\n",
        "    \n",
        "    def __init__(self,name,age,designation,email,pay):\n",
        "        \n",
        "        self.n=name\n",
        "        self.a=age\n",
        "        self.d=designation\n",
        "        self.e=email\n",
        "        self.p=pay\n",
        "        \n",
        "emp_1=Employee('Ali',34,'Asssistant manager','ali@company.com',50000)\n",
        "emp_2=Employee('Ahmed',25,'Computer Engineer','eng@company.com',60000)\n",
        "\n",
        "print('Employee name is: ',emp_1.n)\n",
        "print('Employee age is: ',emp_1.a)\n",
        "print('Employee designation is: ',emp_1.d)\n",
        "print('Employee email is: ',emp_1.e)\n",
        "print('Employee pay is: ',emp_1.p)\n",
        "\n",
        "print('\\nEmployee name is: ',emp_2.n)\n",
        "print('Employee age is: ',emp_2.a)\n",
        "print('Employee designation is: ',emp_2.d)\n",
        "print('Employee email is: ',emp_2.e)\n",
        "print('Employee pay is: ',emp_2.p)\n"
      ],
      "execution_count": null,
      "outputs": [
        {
          "output_type": "stream",
          "name": "stdout",
          "text": [
            "Employee name is:  Ali\n",
            "Employee age is:  34\n",
            "Employee designation is:  Asssistant manager\n",
            "Employee email is:  ali@company.com\n",
            "Employee pay is:  50000\n",
            "\n",
            "Employee name is:  Ahmed\n",
            "Employee age is:  25\n",
            "Employee designation is:  Computer Engineer\n",
            "Employee email is:  eng@company.com\n",
            "Employee pay is:  60000\n"
          ]
        }
      ]
    },
    {
      "cell_type": "code",
      "metadata": {
        "id": "kiwOGzF3QKI4",
        "colab": {
          "base_uri": "https://localhost:8080/"
        },
        "outputId": "478a114c-5421-4f34-bfc5-fc425b109fb6"
      },
      "source": [
        "class Employee():\n",
        "    \n",
        "    def __init__(self,name,age,designation,email,pay):\n",
        "        \n",
        "        self.n=name\n",
        "        self.a=age\n",
        "        self.d=designation\n",
        "        self.e=email\n",
        "        self.p=pay\n",
        "        \n",
        "    def data(self):\n",
        "        print('Employee name is: ',self.n)\n",
        "        print('Employee age is: ',self.a)\n",
        "        print('Employee designation is: ',self.d)\n",
        "        print('Employee email is: ',self.e)\n",
        "        print('Employee pay is: ',self.p)\n",
        "\n",
        "emp_1=Employee('Ali',34,'Asssistant manager','ali@company.com',50000)\n",
        "emp_2=Employee('Ahmed',25,'Computer Engineer','eng@company.com',60000)\n",
        "print('\\n')\n",
        "\n",
        "emp_1.data()\n",
        "emp_2.data()\n",
        "\n",
        "\n"
      ],
      "execution_count": null,
      "outputs": [
        {
          "output_type": "stream",
          "name": "stdout",
          "text": [
            "\n",
            "\n",
            "Employee name is:  Ali\n",
            "Employee age is:  34\n",
            "Employee designation is:  Asssistant manager\n",
            "Employee email is:  ali@company.com\n",
            "Employee pay is:  50000\n",
            "Employee name is:  Ahmed\n",
            "Employee age is:  25\n",
            "Employee designation is:  Computer Engineer\n",
            "Employee email is:  eng@company.com\n",
            "Employee pay is:  60000\n"
          ]
        }
      ]
    }
  ]
}