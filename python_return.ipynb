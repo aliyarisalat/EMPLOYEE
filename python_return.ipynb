{
  "nbformat": 4,
  "nbformat_minor": 0,
  "metadata": {
    "colab": {
      "name": "python_return.ipynb",
      "provenance": [],
      "collapsed_sections": [],
      "authorship_tag": "ABX9TyNw4k+0pYpAGTjXpqdlHJNI",
      "include_colab_link": true
    },
    "kernelspec": {
      "name": "python3",
      "display_name": "Python 3"
    },
    "language_info": {
      "name": "python"
    }
  },
  "cells": [
    {
      "cell_type": "markdown",
      "metadata": {
        "id": "view-in-github",
        "colab_type": "text"
      },
      "source": [
        "<a href=\"https://colab.research.google.com/github/aliyarisalat/EMPLOYEE/blob/main/python_return.ipynb\" target=\"_parent\"><img src=\"https://colab.research.google.com/assets/colab-badge.svg\" alt=\"Open In Colab\"/></a>"
      ]
    },
    {
      "cell_type": "code",
      "metadata": {
        "id": "n5iVdrTqQtio",
        "colab": {
          "base_uri": "https://localhost:8080/"
        },
        "outputId": "ffcf4dd4-feab-451a-9dce-44253df928ec"
      },
      "source": [
        "def addition(num1,num2):\n",
        "    result=num1+num2\n",
        "    return(result)\n",
        "\n",
        "def subtraction(num1,num2):\n",
        "    result=num1-num2\n",
        "    return(result)\n",
        "\n",
        "def multiplication(num1,num2):\n",
        "    result=num1*num2\n",
        "    return(result)\n",
        "\n",
        "def division(num1,num2):\n",
        "    result=num1/num2\n",
        "    return(result)\n",
        "\n",
        "def modulodivision(num1,num2):\n",
        "    result=num1%num2\n",
        "    return(result)\n",
        "\n",
        "def exponentiation(num1,num2):\n",
        "    result=num1**num2\n",
        "    return(result)\n",
        "\n",
        "def floordivision(num1,num2):\n",
        "    result=num1//num2\n",
        "    return(result)\n",
        "\n",
        "a=int(input(\"enter 1st number: \"))\n",
        "b=int(input(\"enter 2nd number: \"))\n",
        "\n",
        "sum=addition(a,b)\n",
        "print(\"sum is: \" +str(sum))\n",
        "\n",
        "diff=subtraction(a,b)\n",
        "print(\"difference is: \" +str(diff))\n",
        "\n",
        "mult=multiplication(a,b)\n",
        "print(\"multiplication is: \" +str(mult))\n",
        "\n",
        "div=division(a,b)\n",
        "print(\"division is: \" +str(div))\n",
        "\n",
        "mod=modulodivision(a,b)\n",
        "print(\"modulus is: \" +str(mod))\n",
        "\n",
        "exp=exponentiation(a,b)\n",
        "print(\"exponention is: \" +str(exp))\n",
        "\n",
        "floordiv=floordivision(a,b)\n",
        "print(\"floor division is: \" +str(floordiv))\n",
        "\n",
        "\n",
        "\n",
        "\n",
        "\n",
        "\n"
      ],
      "execution_count": null,
      "outputs": [
        {
          "output_type": "stream",
          "name": "stdout",
          "text": [
            "enter 1st number: 5\n",
            "enter 2nd number: 3\n",
            "sum is: 8\n",
            "difference is: 2\n",
            "multiplication is: 15\n",
            "division is: 1.6666666666666667\n",
            "modulus is: 2\n",
            "exponention is: 125\n",
            "floor division is: 1\n"
          ]
        }
      ]
    },
    {
      "cell_type": "markdown",
      "metadata": {
        "id": "ehplBT3pQ9zH"
      },
      "source": [
        ""
      ]
    }
  ]
}